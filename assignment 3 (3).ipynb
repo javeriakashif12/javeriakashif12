{
 "cells": [
  {
   "cell_type": "code",
   "execution_count": 11,
   "id": "fb8ca551",
   "metadata": {},
   "outputs": [
    {
     "name": "stdout",
     "output_type": "stream",
     "text": [
      "twinkle,twinkle, little star,\n",
      "       how i wonder what you are!\n",
      "               up above the world so high,\n",
      "              like a diamond in the sky.\n",
      " twinkle,twinkle little star,\n",
      "    how i wonder what you are\n"
     ]
    }
   ],
   "source": [
    "print(\"question 1\")\n",
    "poem =(\"twinkle,twinkle, little star,\\n       how i wonder what you are!\\n               up above the world so high,\\n              like a diamond in the sky.\\n twinkle,twinkle little star,\\n    how i wonder what you are\")\n",
    "print(poem);"
   ]
  },
  {
   "cell_type": "code",
   "execution_count": 2,
   "id": "111ecbbb",
   "metadata": {},
   "outputs": [
    {
     "name": "stdout",
     "output_type": "stream",
     "text": [
      "question 2\n",
      "3.8.8\n"
     ]
    }
   ],
   "source": [
    "print(\"question 2\")\n",
    "import platform\n",
    "print(platform.python_version())"
   ]
  },
  {
   "cell_type": "code",
   "execution_count": 3,
   "id": "ecf0ca24",
   "metadata": {},
   "outputs": [
    {
     "name": "stdout",
     "output_type": "stream",
     "text": [
      "question 3\n",
      "today's date: 2021-10-24\n"
     ]
    }
   ],
   "source": [
    "print(\"question 3\")\n",
    "from datetime import date\n",
    "today = date.today()\n",
    "print(\"today's date:\", today)"
   ]
  },
  {
   "cell_type": "code",
   "execution_count": 4,
   "id": "a6c59ab8",
   "metadata": {},
   "outputs": [
    {
     "name": "stdout",
     "output_type": "stream",
     "text": [
      "question 4\n",
      "Enter radius of circle : 2\n",
      "Area of the circle is: 12.571428571428571\n"
     ]
    }
   ],
   "source": [
    "print(\"question 4\")\n",
    "r = float(input (\"Enter radius of circle : \"))\n",
    "pi= 22/7\n",
    "\n",
    "print (\"Area of the circle is: \" + str(pi * r**2))"
   ]
  },
  {
   "cell_type": "code",
   "execution_count": 5,
   "id": "5d3b3f9a",
   "metadata": {},
   "outputs": [
    {
     "name": "stdout",
     "output_type": "stream",
     "text": [
      "question 5\n",
      " enter your namedua\n",
      " enter your last namenadeem\n",
      "nadeem dua\n"
     ]
    }
   ],
   "source": [
    "print(\"question 5\")\n",
    "firstname = input (\" enter your name\")\n",
    "lastname = input (\" enter your last name\")\n",
    "print ( lastname+ \" \" + firstname)"
   ]
  },
  {
   "cell_type": "code",
   "execution_count": 6,
   "id": "3782a494",
   "metadata": {},
   "outputs": [
    {
     "name": "stdout",
     "output_type": "stream",
     "text": [
      "question 6\n",
      "enter your english marks90\n",
      "enter your math marks80\n",
      "170\n"
     ]
    }
   ],
   "source": [
    "print(\"question 6\")\n",
    "english =int(input(\"enter your english marks\"))\n",
    "maths =int(input(\"enter your math marks\"))\n",
    "total = english + maths\n",
    "print(total)"
   ]
  },
  {
   "cell_type": "code",
   "execution_count": 7,
   "id": "b2746422",
   "metadata": {},
   "outputs": [
    {
     "name": "stdout",
     "output_type": "stream",
     "text": [
      "question 7\n",
      "enter your english marks90\n",
      "enter your math marks90\n",
      "enter your biology marks90\n",
      "enter your pst marks90\n",
      "enter your urdu marks90\n",
      "grade A\n"
     ]
    }
   ],
   "source": [
    "print (\"question 7\")\n",
    "english =int(input(\"enter your english marks\"))\n",
    "maths =int(input(\"enter your math marks\"))\n",
    "biology =int(input(\"enter your biology marks\"))\n",
    "pst = int(input(\"enter your pst marks\"))\n",
    "urdu = int(input(\"enter your urdu marks\"))\n",
    "total = english + maths + biology + pst +urdu\n",
    "obtainedmarks = 500\n",
    "percent = obtainedmarks/total*100\n",
    "percent = 90;\n",
    "if percent < 100 and percent > 80:\n",
    "   print(\"grade A\");\n",
    "elif percent < 90 and percent > 70:\n",
    "    print(\"grade b\");\n",
    "elif percent < 60 and percent > 50:\n",
    "    print(\"grade c\");\n",
    "else:\n",
    "    print(\"fail\")\n"
   ]
  },
  {
   "cell_type": "code",
   "execution_count": 8,
   "id": "c8ebf74c",
   "metadata": {},
   "outputs": [
    {
     "name": "stdout",
     "output_type": "stream",
     "text": [
      "enter number33\n",
      "Odd number\n"
     ]
    }
   ],
   "source": [
    "number = int(input(\"enter number\"));\n",
    "if number % 2 == 0:\n",
    "    print(\"Even number\");\n",
    "else:\n",
    "    print(\"Odd number\");\n"
   ]
  },
  {
   "cell_type": "code",
   "execution_count": 9,
   "id": "f22d4a86",
   "metadata": {},
   "outputs": [
    {
     "name": "stdout",
     "output_type": "stream",
     "text": [
      "question 8\n",
      "3\n"
     ]
    }
   ],
   "source": [
    "print(\"question 8\")\n",
    "fruit = (\"apple\", \"banana\", \"cherry\")\n",
    "print(len(fruit))"
   ]
  },
  {
   "cell_type": "code",
   "execution_count": 10,
   "id": "7fd177ed",
   "metadata": {},
   "outputs": [
    {
     "name": "stdout",
     "output_type": "stream",
     "text": [
      "question 9\n",
      "enter the number 1 12\n",
      "enter the number 2 13\n",
      "enter the number 3 14\n",
      "39\n"
     ]
    }
   ],
   "source": [
    "print(\"question 9\")\n",
    "list1 = int(input(\"enter the number 1 \"))\n",
    "list2 = int(input(\"enter the number 2 \"))\n",
    "list3 = int(input(\"enter the number 3 \"))\n",
    "sum = list1 + list2 + list3 \n",
    "print(sum)"
   ]
  },
  {
   "cell_type": "code",
   "execution_count": 11,
   "id": "e2bed9a6",
   "metadata": {},
   "outputs": [
    {
     "name": "stdout",
     "output_type": "stream",
     "text": [
      "question 10\n",
      "Largest element is: 99\n"
     ]
    }
   ],
   "source": [
    "print(\"question 10\")\n",
    "list1 = [10, 20, 4, 45, 99]\n",
    "  \n",
    "  \n",
    "# printing the maximum element\n",
    "print(\"Largest element is:\", max(list1))"
   ]
  },
  {
   "cell_type": "code",
   "execution_count": 1,
   "id": "2192c0fb",
   "metadata": {},
   "outputs": [
    {
     "name": "stdout",
     "output_type": "stream",
     "text": [
      "question 11\n",
      "[1, 1, 2, 3]\n"
     ]
    }
   ],
   "source": [
    "print(\"question 11\")\n",
    "a = [1,1,2,3,5,8,13,21,34,55,89]\n",
    "x = a[0:4]\n",
    "print(x);\n",
    "\n"
   ]
  },
  {
   "cell_type": "code",
   "execution_count": null,
   "id": "6d6bbff5",
   "metadata": {},
   "outputs": [],
   "source": []
  },
  {
   "cell_type": "code",
   "execution_count": null,
   "id": "da7e165f",
   "metadata": {},
   "outputs": [],
   "source": []
  }
 ],
 "metadata": {
  "kernelspec": {
   "display_name": "Python 3",
   "language": "python",
   "name": "python3"
  },
  "language_info": {
   "codemirror_mode": {
    "name": "ipython",
    "version": 3
   },
   "file_extension": ".py",
   "mimetype": "text/x-python",
   "name": "python",
   "nbconvert_exporter": "python",
   "pygments_lexer": "ipython3",
   "version": "3.8.8"
  }
 },
 "nbformat": 4,
 "nbformat_minor": 5
}
