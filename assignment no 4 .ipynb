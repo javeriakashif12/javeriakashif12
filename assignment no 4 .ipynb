{
 "cells": [
  {
   "cell_type": "code",
   "execution_count": 3,
   "id": "c1f8a1ae",
   "metadata": {},
   "outputs": [
    {
     "name": "stdout",
     "output_type": "stream",
     "text": [
      "python calculator\n",
      "enter first number :50\n",
      "enter the second number :30\n",
      "operation types\n",
      "+ for addition\n",
      "- for subtraction\n",
      "* for multiplication\n",
      "/ division\n",
      "please enter any one of the above value :+\n",
      "result : 80\n"
     ]
    }
   ],
   "source": [
    "print(\"python calculator\")\n",
    "first_number = int(input(\"enter first number :\"))\n",
    "second_number = int(input(\"enter the second number :\"))\n",
    "print(\"operation types\")\n",
    "print(\"+ for addition\")\n",
    "print(\"- for subtraction\")\n",
    "print(\"* for multiplication\")\n",
    "print(\"/ division\")\n",
    "operator = input(\"please enter any one of the above value :\")\n",
    "result = 0\n",
    "if operator == \"+\":\n",
    "    result = first_number + second_number\n",
    "if operator ==\"-\":\n",
    "    result = first_number - second_number \n",
    "if operator == \"*\":\n",
    "    result == first_number * second_number\n",
    "if operator == \"/\":\n",
    "    result == first_number / second_number \n",
    "\n",
    "print(f\"result : {result}\")    "
   ]
  },
  {
   "cell_type": "code",
   "execution_count": 7,
   "id": "60d9cf58",
   "metadata": {},
   "outputs": [
    {
     "name": "stdout",
     "output_type": "stream",
     "text": [
      "Checking if 3 exists in list ( using loop ) : \n",
      "Element Exists\n",
      "Element Exists\n",
      "Checking if 3 exists in list ( using in ) : \n",
      "Element Exists\n"
     ]
    }
   ],
   "source": [
    "\n",
    "# using loops and in\n",
    " \n",
    "# Initializing list\n",
    "test_list = [ 1, 6, 3, 5, 3, 4 ]\n",
    " \n",
    "print(\"Checking if 3 exists in list ( using loop ) : \")\n",
    " \n",
    "# Checking if 3 exists in list\n",
    "# using loop\n",
    "for i in test_list:\n",
    "    if(i == 3) :\n",
    "        print (\"Element Exists\")\n",
    " \n",
    "print(\"Checking if 3 exists in list ( using in ) : \")\n",
    " \n",
    "# Checking if 3 exists in list\n",
    "# using in\n",
    "if (3 in test_list):\n",
    "    print (\"Element Exists\")\n",
    " \n",
    "\n",
    "\n",
    "\n",
    "\n",
    "\n"
   ]
  },
  {
   "cell_type": "code",
   "execution_count": 12,
   "id": "2cb6817e",
   "metadata": {},
   "outputs": [
    {
     "name": "stdout",
     "output_type": "stream",
     "text": [
      "3 a\n",
      "4 b\n",
      "5 c\n"
     ]
    }
   ],
   "source": [
    "a = { 3:'a',4:'b',5:'c'}\n",
    "\n",
    "for key,value in a.items():\n",
    "    print(key , value)"
   ]
  },
  {
   "cell_type": "code",
   "execution_count": 13,
   "id": "e42aa663",
   "metadata": {},
   "outputs": [
    {
     "name": "stdout",
     "output_type": "stream",
     "text": [
      "Dictionary:  {'x': 455, 'y': 223, 'z': 300, 'p': 908}\n",
      "sum:  1886\n"
     ]
    }
   ],
   "source": [
    "# sum of  values in dictionary\n",
    "#initialisation\n",
    "dic={ 'x':455, 'y':223, 'z':300, 'p':908 }\n",
    "\n",
    "print(\"Dictionary: \", dic)\n",
    "\n",
    "#using sum() and values()\n",
    "print(\"sum: \",sum(dic.values()))"
   ]
  },
  {
   "cell_type": "code",
   "execution_count": 16,
   "id": "4346b6b8",
   "metadata": {},
   "outputs": [
    {
     "name": "stdout",
     "output_type": "stream",
     "text": [
      "[60, 40, 20, -20]\n"
     ]
    }
   ],
   "source": [
    "\n",
    "def Repeat(x):\n",
    "    _size = len(x)\n",
    "    repeated = []\n",
    "    for i in range(_size):\n",
    "        k = i + 1\n",
    "        for j in range(k, _size):\n",
    "            if x[i] == x[j] and x[i] not in repeated:\n",
    "                repeated.append(x[i])\n",
    "    return repeated\n",
    " \n",
    "# Driver Code\n",
    "list1 = [80, 60, 40, 20, 20, 30, 40,\n",
    "         70, -20, 60, 60, -20, -20]\n",
    "print (Repeat(list1))"
   ]
  },
  {
   "cell_type": "code",
   "execution_count": 17,
   "id": "e300f540",
   "metadata": {},
   "outputs": [
    {
     "name": "stdout",
     "output_type": "stream",
     "text": [
      "The given dictionary :  {'Mon': 3, 'Tue': 5, 'Wed': 6, 'Thu': 9}\n",
      "Wed is Present.\n"
     ]
    }
   ],
   "source": [
    "Adict = {'Mon':3,'Tue':5,'Wed':6,'Thu':9}\n",
    "print(\"The given dictionary : \",Adict)\n",
    "check_key = \"Wed\"\n",
    "if check_key in Adict.keys():\n",
    "   print(check_key,\"is Present.\")\n",
    "else:\n",
    "   print(check_key, \" is not Present.\")"
   ]
  },
  {
   "cell_type": "code",
   "execution_count": null,
   "id": "dc225fff",
   "metadata": {},
   "outputs": [],
   "source": []
  }
 ],
 "metadata": {
  "kernelspec": {
   "display_name": "Python 3",
   "language": "python",
   "name": "python3"
  },
  "language_info": {
   "codemirror_mode": {
    "name": "ipython",
    "version": 3
   },
   "file_extension": ".py",
   "mimetype": "text/x-python",
   "name": "python",
   "nbconvert_exporter": "python",
   "pygments_lexer": "ipython3",
   "version": "3.8.8"
  }
 },
 "nbformat": 4,
 "nbformat_minor": 5
}
