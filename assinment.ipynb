{
 "cells": [
  {
   "cell_type": "markdown",
   "id": "3730b615",
   "metadata": {},
   "source": [
    " ## how to create a dictionary:"
   ]
  },
  {
   "cell_type": "code",
   "execution_count": 2,
   "id": "67ef8561",
   "metadata": {},
   "outputs": [
    {
     "ename": "SyntaxError",
     "evalue": "invalid syntax (<ipython-input-2-f7cbe3104e90>, line 1)",
     "output_type": "error",
     "traceback": [
      "\u001b[1;36m  File \u001b[1;32m\"<ipython-input-2-f7cbe3104e90>\"\u001b[1;36m, line \u001b[1;32m1\u001b[0m\n\u001b[1;33m    a['4'] = 'd'a = {1:'a',2:'b',3:'c'}\u001b[0m\n\u001b[1;37m                ^\u001b[0m\n\u001b[1;31mSyntaxError\u001b[0m\u001b[1;31m:\u001b[0m invalid syntax\n"
     ]
    }
   ],
   "source": [
    "\n",
    "a['4'] = 'd'a = {1:'a',2:'b',3:'c'}\n",
    "a[3] = 'e'\n",
    "\n",
    "for key,value  in a.items():\n",
    "      print(key,value)\n",
    "        "
   ]
  },
  {
   "cell_type": "code",
   "execution_count": 4,
   "id": "c5b49949",
   "metadata": {},
   "outputs": [
    {
     "name": "stdout",
     "output_type": "stream",
     "text": [
      "c\n"
     ]
    }
   ],
   "source": [
    "print(a[3])"
   ]
  },
  {
   "cell_type": "code",
   "execution_count": 3,
   "id": "a49c579e",
   "metadata": {},
   "outputs": [
    {
     "name": "stdout",
     "output_type": "stream",
     "text": [
      "enter H3\n"
     ]
    },
    {
     "data": {
      "text/plain": [
       "{1: 'a', 2: 'b', 3: 'c', 4: ['d', 'e', 'f', 'g', '3']}"
      ]
     },
     "execution_count": 3,
     "metadata": {},
     "output_type": "execute_result"
    }
   ],
   "source": [
    "a = {1:'a',2:'b',3:'c',4:['d','e','f','g']}\n",
    "\n",
    "inp = input(\"enter H\")\n",
    "a[4].append(inp)\n",
    "a\n",
    "\n"
   ]
  },
  {
   "cell_type": "code",
   "execution_count": null,
   "id": "a278dc03",
   "metadata": {},
   "outputs": [],
   "source": [
    "a = {1;'a',2:'b',3:'c',4:['d','e','f','g'], 5:(6:'h')"
   ]
  },
  {
   "cell_type": "code",
   "execution_count": null,
   "id": "99496692",
   "metadata": {},
   "outputs": [],
   "source": [
    "a = {1:'a',2:'b',3:'c'}\n",
    "# pop\n",
    "# clear\n",
    "# del\n",
    "\n",
    "print(a.pop(2))"
   ]
  },
  {
   "cell_type": "code",
   "execution_count": null,
   "id": "258f6e2d",
   "metadata": {},
   "outputs": [],
   "source": []
  },
  {
   "cell_type": "code",
   "execution_count": null,
   "id": "7e9fec32",
   "metadata": {},
   "outputs": [],
   "source": []
  },
  {
   "cell_type": "code",
   "execution_count": null,
   "id": "0449c4be",
   "metadata": {},
   "outputs": [],
   "source": []
  },
  {
   "cell_type": "code",
   "execution_count": null,
   "id": "5c3c69e7",
   "metadata": {},
   "outputs": [],
   "source": []
  },
  {
   "cell_type": "code",
   "execution_count": null,
   "id": "40be62ac",
   "metadata": {},
   "outputs": [],
   "source": []
  }
 ],
 "metadata": {
  "kernelspec": {
   "display_name": "Python 3",
   "language": "python",
   "name": "python3"
  },
  "language_info": {
   "codemirror_mode": {
    "name": "ipython",
    "version": 3
   },
   "file_extension": ".py",
   "mimetype": "text/x-python",
   "name": "python",
   "nbconvert_exporter": "python",
   "pygments_lexer": "ipython3",
   "version": "3.8.8"
  }
 },
 "nbformat": 4,
 "nbformat_minor": 5
}
